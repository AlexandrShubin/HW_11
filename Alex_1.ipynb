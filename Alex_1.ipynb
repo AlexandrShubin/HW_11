{
 "cells": [
  {
   "cell_type": "code",
   "execution_count": 8,
   "id": "c9774a4c",
   "metadata": {},
   "outputs": [
    {
     "name": "stdout",
     "output_type": "stream",
     "text": [
      "Hallo, Svyatoslav!\n"
     ]
    }
   ],
   "source": [
    "print('Hallo, Svyatoslav!')\n"
   ]
  },
  {
   "cell_type": "code",
   "execution_count": 6,
   "id": "e00c91ea",
   "metadata": {},
   "outputs": [],
   "source": [
    "# Урок 11. Jupyter Notebook и несколько слов об аналитике\n",
    "# f(x) = -12x^4*sin(cos(x)) - 18x^3+5x^2 + 10x - 30\n",
    "\n",
    "# Определить корни\n",
    "\n",
    "# Найти интервалы, на которых функция возрастает\n",
    "\n",
    "# Найти интервалы, на которых функция убывает\n",
    "\n",
    "# Построить график\n",
    "\n",
    "# Вычислить вершину\n",
    "\n",
    "# Определить промежутки, на котором f > 0\n",
    "\n",
    "# Определить промежутки, на котором f < 0"
   ]
  },
  {
   "cell_type": "code",
   "execution_count": null,
   "id": "2ce736fc",
   "metadata": {},
   "outputs": [],
   "source": [
    "from math import\n",
    "import pygame\n",
    "\n",
    "pygame.init()\n",
    "screen = pygame.display.set_mode((300,300))\n",
    "pygame.display.set_caption(\"func_graph\")\n",
    "all_sprites=pygame.sprite.Group()\n",
    "clock = pygame.time.Clock()\n",
    "running  = True\n",
    "fps=50"
   ]
  },
  {
   "cell_type": "code",
   "execution_count": null,
   "id": "5122363d",
   "metadata": {},
   "outputs": [],
   "source": [
    "class (pygame.sprite.Sprite):\n",
    "    def __init__(self,x,y):\n",
    "        pygame.sprite.Sprite.__init__(self)\n",
    "        self.image=pygame.surface.Surface((5,5))\n",
    "        self.image.fill((0,0,0))\n",
    "        self.rect=self.image.get_rect()\n",
    "        self.rect.centerx=x\n",
    "        self.rect.centery=y"
   ]
  },
  {
   "cell_type": "code",
   "execution_count": null,
   "id": "3a84ea9f",
   "metadata": {},
   "outputs": [],
   "source": [
    "def Calc(func):\n",
    "    i=-10\n",
    "    while i<=10:\n",
    "        mass=\"\"\n",
    "        for j in func:\n",
    "            if j == \"x\":\n",
    "                mass+=str(i)\n",
    "            else:\n",
    "                mass+=j\n",
    "            i+=0.0001\n",
    "        try:\n",
    "          res1=eval(mass)\n",
    "        except:\n",
    "          res1=10000\n",
    "        dot=Dot(250+i*10,250-res1*10)\n",
    "        all_sprites.add(dot)"
   ]
  },
  {
   "cell_type": "code",
   "execution_count": null,
   "id": "e128d5d9",
   "metadata": {},
   "outputs": [],
   "source": [
    "func = str(input(\"y = \"))\n",
    "calc = Calc(func)"
   ]
  },
  {
   "cell_type": "code",
   "execution_count": null,
   "id": "6d8f27a7",
   "metadata": {},
   "outputs": [],
   "source": [
    "line = Line(\"y\",250,250)\n",
    "all_sprites.add(line)\n",
    "line1 = Line(\"x\",250,250)\n",
    "all_sprites.add(line1)"
   ]
  },
  {
   "cell_type": "code",
   "execution_count": null,
   "id": "12c385c3",
   "metadata": {},
   "outputs": [],
   "source": [
    "while running:\n",
    "    clock.tick(fps)\n",
    "    for event in pygame.event.get():\n",
    "        if event.type == pygame.QUIT:\n",
    "            running = False\n",
    "    screen.fill((255,255,255))\n",
    "    all_sprites.draw(screen)\n",
    "    pygame.display.flip()\n",
    "pygame.quit()"
   ]
  },
  {
   "cell_type": "code",
   "execution_count": null,
   "id": "343da5ab",
   "metadata": {},
   "outputs": [],
   "source": [
    "import numpy as np\n",
    "import matplotlib.pyplot as plt\n",
    "x = np.arange(-20, 10.01, 0.01)\n",
    "plt.plot(x, x **2)\n",
    "plt.show()"
   ]
  }
 ],
 "metadata": {
  "kernelspec": {
   "display_name": "Python 3 (ipykernel)",
   "language": "python",
   "name": "python3"
  },
  "language_info": {
   "codemirror_mode": {
    "name": "ipython",
    "version": 3
   },
   "file_extension": ".py",
   "mimetype": "text/x-python",
   "name": "python",
   "nbconvert_exporter": "python",
   "pygments_lexer": "ipython3",
   "version": "3.9.12"
  }
 },
 "nbformat": 4,
 "nbformat_minor": 5
}
